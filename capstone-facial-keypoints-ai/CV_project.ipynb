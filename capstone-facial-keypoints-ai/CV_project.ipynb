{
 "cells": [
  {
   "cell_type": "markdown",
   "metadata": {},
   "source": [
    "# Artificial Intelligence Nanodegree\n",
    "## Computer Vision Capstone\n",
    "## Project: Facial Keypoint Detection\n",
    "\n",
    "---\n",
    "\n",
    "Welcome to the final Computer Vision project in the Artificial Intelligence Nanodegree program!  \n",
    "\n",
    "In this project, you’ll combine your knowledge of computer vision techniques and deep learning to build and end-to-end facial keypoint recognition system! Facial keypoints include points around the eyes, nose, and mouth on any face and are used in many applications, from facial tracking to emotion recognition. \n",
    "\n",
    "There are three main parts to this project:\n",
    "\n",
    "**Part 1** : Investigating OpenCV, pre-processing, and face detection\n",
    "\n",
    "**Part 2** : Training a Convolutional Neural Network (CNN) to detect facial keypoints\n",
    "\n",
    "**Part 3** : Putting parts 1 and 2 together to identify facial keypoints on any image!\n",
    "\n",
    "---\n",
    "\n",
    "**Here's what you need to know to complete the project:*\n",
    "\n",
    "1. In this notebook, some template code has already been provided for you, and you will need to implement additional functionality to successfully complete this project. You will not need to modify the included code beyond what is requested. \n",
    "    \n",
    "    a. Sections that begin with **'(IMPLEMENTATION)'** in the header indicate that the following block of code will require additional functionality which you must provide. Instructions will be provided for each section, and the specifics of the implementation are marked in the code block with a 'TODO' statement. Please be sure to read the instructions carefully! \n",
    "\n",
    "\n",
    "2. In addition to implementing code, there will be questions that you must answer which relate to the project and your implementation. \n",
    "    \n",
    "    a. Each section where you will answer a question is preceded by a **'Question X'** header. \n",
    "    \n",
    "    b. Carefully read each question and provide thorough answers in the following text boxes that begin with **'Answer:'**.\n",
    "\n",
    ">**Note:** Code and Markdown cells can be executed using the **Shift + Enter** keyboard shortcut.  Markdown cells can be edited by double-clicking the cell to enter edit mode.\n",
    "\n",
    "The rubric contains **optional** suggestions for enhancing the project beyond the minimum requirements. If you decide to pursue the \"(Optional)\" sections, you should include the code in this IPython notebook.\n",
    "\n",
    "Your project submission will be evaluated based on your answers to *each* of the questions and the code implementations you provide.  "
   ]
  },
  {
   "cell_type": "markdown",
   "metadata": {},
   "source": [
    "### Steps to Complete the Project\n",
    "\n",
    "Each part of the notebook is further broken down into separate steps.  Feel free to use the links below to navigate the notebook.\n",
    "\n",
    "In this project you will get to explore a few of the many computer vision algorithms built into the OpenCV library.  This expansive computer vision library is now [almost 20 years old](https://en.wikipedia.org/wiki/OpenCV#History) and still growing! \n",
    "\n",
    "The project itself is broken down into three large parts, then even further into separate steps.  Make sure to read through each step, and complete any sections that begin with **'(IMPLEMENTATION)'** in the header; these implementation sections may contain multiple TODOs that will be marked in code.  For convenience, we provide links to each of these steps below.\n",
    "\n",
    "**Part 1** : Investigating OpenCV, pre-processing, and face detection\n",
    "\n",
    "* [Step 0](#step0): Detect Faces Using a Haar Cascade Classifier\n",
    "* [Step 1](#step1): Add Eye Detection\n",
    "* [Step 2](#step2): De-noise an Image for Better Face Detection\n",
    "* [Step 3](#step3): Blur an Image and Perform Edge Detection\n",
    "* [Step 4](#step4): Automatically Hide the Identity of an Individual\n",
    "\n",
    "**Part 2** : Training a Convolutional Neural Network (CNN) to detect facial keypoints\n",
    "\n",
    "* [Step 5](#step5): Create a CNN to Recognize Facial Keypoints\n",
    "* [Step 6](#step6): Compile and Train the Model\n",
    "* [Step 7](#step7): Visualize the Loss and Answer Questions\n",
    "\n",
    "**Part 3** : Putting parts 1 and 2 together to identify facial keypoints on any image!\n",
    "\n",
    "* [Step 8](#step7): Build a Robust Facial Keypoints Detector (Complete the CV Pipeline)\n",
    "\n"
   ]
  },
  {
   "cell_type": "markdown",
   "metadata": {},
   "source": [
    "---\n",
    "<a id='step0'></a>\n",
    "## Step 0: Detect Faces Using a Haar Cascade Classifier\n",
    "\n",
    "Have you ever wondered how Facebook automatically tags images with your friends' faces?   Or how high-end cameras automatically find and focus on a certain person's face?  Applications like these depend heavily on the machine learning task known as *face detection* -  which is the task of automatically finding faces in images containing people.  \n",
    "\n",
    "At its root face detection is a classification problem - that is a problem of distinguishing between distinct classes of things.  With face detection these distinct classes are 1) images of human faces and 2) everything else. \n",
    "\n",
    "We use OpenCV's implementation of [Haar feature-based cascade classifiers](http://docs.opencv.org/trunk/d7/d8b/tutorial_py_face_detection.html) to detect human faces in images.  OpenCV provides many pre-trained face detectors, stored as XML files on [github](https://github.com/opencv/opencv/tree/master/data/haarcascades).  We have downloaded one of these detectors and stored it in the `detector_architectures` directory.\n"
   ]
  },
  {
   "cell_type": "markdown",
   "metadata": {},
   "source": [
    "### Import Resources \n",
    "\n",
    "In the next python cell, we load in the required libraries for this section of the project."
   ]
  },
  {
   "cell_type": "code",
   "execution_count": null,
   "metadata": {},
   "outputs": [],
   "source": [
    "# Import required libraries for this section\n",
    "\n",
    "%matplotlib inline\n",
    "\n",
    "import numpy as np\n",
    "import matplotlib.pyplot as plt\n",
    "import math\n",
    "import cv2                     # OpenCV library for computer vision\n",
    "from PIL import Image\n",
    "import time "
   ]
  },
  {
   "cell_type": "markdown",
   "metadata": {},
   "source": [
    "Next, we load in and display a test image for performing face detection.\n",
    "\n",
    "*Note*: by default OpenCV assumes the ordering of our image's color channels are Blue, then Green, then Red.  This is slightly out of order with most image types we'll use in these experiments, whose color channels are ordered Red, then Green, then Blue.  In order to switch the Blue and Red channels of our test image around we will use OpenCV's ```cvtColor``` function, which you can read more about by [checking out some of its documentation located here](http://docs.opencv.org/3.2.0/df/d9d/tutorial_py_colorspaces.html).  This is a general utility function that can do other transformations too like converting a color image to grayscale, and transforming a standard color image to HSV color space."
   ]
  },
  {
   "cell_type": "code",
   "execution_count": null,
   "metadata": {},
   "outputs": [],
   "source": [
    "# Load in color image for face detection\n",
    "image = cv2.imread('images/test_image_1.jpg')\n",
    "\n",
    "# Convert the image to RGB colorspace\n",
    "image = cv2.cvtColor(image, cv2.COLOR_BGR2RGB)\n",
    "\n",
    "# Plot our image using subplots to specify a size and title\n",
    "fig = plt.figure(figsize = (8,8))\n",
    "ax1 = fig.add_subplot(111)\n",
    "ax1.set_xticks([])\n",
    "ax1.set_yticks([])\n",
    "\n",
    "ax1.set_title('Original Image')\n",
    "ax1.imshow(image)"
   ]
  },
  {
   "cell_type": "markdown",
   "metadata": {},
   "source": [
    "There are a lot of people - and faces - in this picture.  13 faces to be exact!  In the next code cell, we demonstrate how to use a Haar Cascade classifier to detect all the faces in this test image.\n",
    "\n",
    "This face detector uses information about patterns of intensity in an image to reliably detect faces under varying light conditions. So, to use this face detector, we'll first convert the image from color to grayscale. \n",
    "\n",
    "Then, we load in the fully trained architecture of the face detector -- found in the file *haarcascade_frontalface_default.xml* - and use it on our image to find faces! \n",
    "\n",
    "To learn more about the parameters of the detector see [this post](https://stackoverflow.com/questions/20801015/recommended-values-for-opencv-detectmultiscale-parameters)."
   ]
  },
  {
   "cell_type": "code",
   "execution_count": null,
   "metadata": {},
   "outputs": [],
   "source": [
    "# Convert the RGB  image to grayscale\n",
    "gray = cv2.cvtColor(image, cv2.COLOR_RGB2GRAY)\n",
    "\n",
    "# Extract the pre-trained face detector from an xml file\n",
    "face_cascade = cv2.CascadeClassifier('detector_architectures/haarcascade_frontalface_default.xml')\n",
    "\n",
    "# Detect the faces in image\n",
    "faces = face_cascade.detectMultiScale(gray, 4, 6)\n",
    "\n",
    "# Print the number of faces detected in the image\n",
    "print('Number of faces detected:', len(faces))\n",
    "\n",
    "# Make a copy of the orginal image to draw face detections on\n",
    "image_with_detections = np.copy(image)\n",
    "\n",
    "# Get the bounding box for each detected face\n",
    "for (x,y,w,h) in faces:\n",
    "    # Add a red bounding box to the detections image\n",
    "    cv2.rectangle(image_with_detections, (x,y), (x+w,y+h), (255,0,0), 3)\n",
    "    \n",
    "\n",
    "# Display the image with the detections\n",
    "fig = plt.figure(figsize = (8,8))\n",
    "ax1 = fig.add_subplot(111)\n",
    "ax1.set_xticks([])\n",
    "ax1.set_yticks([])\n",
    "\n",
    "ax1.set_title('Image with Face Detections')\n",
    "ax1.imshow(image_with_detections)"
   ]
  },
  {
   "cell_type": "markdown",
   "metadata": {},
   "source": [
    "In the above code, `faces` is a numpy array of detected faces, where each row corresponds to a detected face.  Each detected face is a 1D array with four entries that specifies the bounding box of the detected face.  The first two entries in the array (extracted in the above code as `x` and `y`) specify the horizontal and vertical positions of the top left corner of the bounding box.  The last two entries in the array (extracted here as `w` and `h`) specify the width and height of the box."
   ]
  },
  {
   "cell_type": "markdown",
   "metadata": {},
   "source": [
    "---\n",
    "<a id='step1'></a>\n",
    "\n",
    "## Step 1: Add Eye Detections\n",
    "\n",
    "There are other pre-trained detectors available that use a Haar Cascade Classifier - including full human body detectors, license plate detectors, and more.  [A full list of the pre-trained architectures can be found here](https://github.com/opencv/opencv/tree/master/data/haarcascades). "
   ]
  },
  {
   "cell_type": "markdown",
   "metadata": {},
   "source": [
    "To test your eye detector, we'll first read in a new test image with just a single face."
   ]
  },
  {
   "cell_type": "code",
   "execution_count": null,
   "metadata": {},
   "outputs": [],
   "source": [
    "# Load in color image for face detection\n",
    "image = cv2.imread('images/james.jpg')\n",
    "\n",
    "# Convert the image to RGB colorspace\n",
    "image = cv2.cvtColor(image, cv2.COLOR_BGR2RGB)\n",
    "\n",
    "# Plot the RGB image\n",
    "fig = plt.figure(figsize = (6,6))\n",
    "ax1 = fig.add_subplot(111)\n",
    "ax1.set_xticks([])\n",
    "ax1.set_yticks([])\n",
    "\n",
    "ax1.set_title('Original Image')\n",
    "ax1.imshow(image)"
   ]
  },
  {
   "cell_type": "markdown",
   "metadata": {},
   "source": [
    "Notice that even though the image is a black and white image, we have read it in as a color image and so it will still need to be converted to grayscale in order to perform the most accurate face detection.\n",
    "\n",
    "So, the next steps will be to convert this image to grayscale, then load OpenCV's face detector and run it with parameters that detect this face accurately."
   ]
  },
  {
   "cell_type": "code",
   "execution_count": null,
   "metadata": {},
   "outputs": [],
   "source": [
    "# Convert the RGB  image to grayscale\n",
    "gray = cv2.cvtColor(image, cv2.COLOR_RGB2GRAY)\n",
    "\n",
    "# Extract the pre-trained face detector from an xml file\n",
    "face_cascade = cv2.CascadeClassifier('detector_architectures/haarcascade_frontalface_default.xml')\n",
    "\n",
    "# Detect the faces in image\n",
    "faces = face_cascade.detectMultiScale(gray, 1.25, 6)\n",
    "\n",
    "# Print the number of faces detected in the image\n",
    "print('Number of faces detected:', len(faces))\n",
    "\n",
    "# Make a copy of the orginal image to draw face detections on\n",
    "image_with_detections = np.copy(image)\n",
    "\n",
    "# Get the bounding box for each detected face\n",
    "for (x,y,w,h) in faces:\n",
    "    # Add a red bounding box to the detections image\n",
    "    cv2.rectangle(image_with_detections, (x,y), (x+w,y+h), (255,0,0), 3)\n",
    "    \n",
    "\n",
    "# Display the image with the detections\n",
    "fig = plt.figure(figsize = (6,6))\n",
    "ax1 = fig.add_subplot(111)\n",
    "ax1.set_xticks([])\n",
    "ax1.set_yticks([])\n",
    "\n",
    "ax1.set_title('Image with Face Detection')\n",
    "ax1.imshow(image_with_detections)"
   ]
  },
  {
   "cell_type": "markdown",
   "metadata": {},
   "source": [
    "### (IMPLEMENTATION) Add an eye detector to the current face detection setup.  \n",
    "\n",
    "A Haar-cascade eye detector can be included in the same way that the face detector was and, in this first task, it will be your job to do just this."
   ]
  },
  {
   "cell_type": "markdown",
   "metadata": {},
   "source": [
    "To set up an eye detector, use the stored parameters of the eye cascade detector, called ```haarcascade_eye.xml```, located in the `detector_architectures` subdirectory.  In the next code cell, create your eye detector and store its detections.\n",
    "\n",
    "**A few notes before you get started**: \n",
    "\n",
    "First, make sure to give your loaded eye detector the variable name\n",
    "\n",
    "``eye_cascade``\n",
    "\n",
    "\n",
    "and give the list of eye regions you detect the variable name \n",
    "\n",
    "``eyes``\n",
    "\n",
    "Second, since we've already run the face detector over this image, you should only search for eyes *within the rectangular face regions detected in ``faces``*.  This will minimize false detections.\n",
    "\n",
    "Lastly, once you've run your eye detector over the facial detection region, you should display the RGB image with both the face detection boxes (in red) and your eye detections (in green) to verify that everything works as expected."
   ]
  },
  {
   "cell_type": "code",
   "execution_count": null,
   "metadata": {},
   "outputs": [],
   "source": [
    "# Make a copy of the original image to plot rectangle detections\n",
    "image_with_detections = np.copy(image)   \n",
    "\n",
    "# Loop over the detections and draw their corresponding face detection boxes\n",
    "for (x,y,w,h) in faces:\n",
    "    cv2.rectangle(image_with_detections, (x,y), (x+w,y+h),(255,0,0), 3)  \n",
    "    \n",
    "# Do not change the code above this comment!\n",
    "\n",
    "    \n",
    "## TODO: Add eye detection, using haarcascade_eye.xml, to the current face detector algorithm\n",
    "## TODO: Loop over the eye detections and draw their corresponding boxes in green on image_with_detections\n",
    "\n",
    "\n",
    "# Plot the image with both faces and eyes detected\n",
    "fig = plt.figure(figsize = (6,6))\n",
    "ax1 = fig.add_subplot(111)\n",
    "ax1.set_xticks([])\n",
    "ax1.set_yticks([])\n",
    "\n",
    "ax1.set_title('Image with Face and Eye Detection')\n",
    "ax1.imshow(image_with_detections)"
   ]
  },
  {
   "cell_type": "markdown",
   "metadata": {},
   "source": [
    "## (Optional) Add face and eye detection to your laptop camera\n",
    "\n",
    "It's time to kick it up a notch, and add face and eye detection to your laptop's camera!  Afterwards, you'll be able to show off your creation like in the gif shown below - made with a completed version of the code!  \n",
    "\n",
    "<img src=\"images/laptop_face_detector_example.gif\" width=400 height=300/>\n",
    "\n",
    "Notice that not all of the detections here are perfect - and your result need not be perfect either.   You should spend a small amount of time tuning the parameters of your detectors to get reasonable results, but don't hold out for perfection.  If we wanted perfection we'd need to spend a ton of time tuning the parameters of each detector, cleaning up the input image frames, etc. You can think of this as more of a rapid prototype. \n",
    "\n",
    "The next cell contains code for a wrapper function called ``laptop_camera_face_eye_detector`` that, when called, will activate your laptop's camera.  You will place the relevant face and eye detection code in this wrapper function to implement face/eye detection and mark those detections on each image frame that your camera captures.\n",
    "\n",
    "Before adding anything to the function, you can run it to get an idea of how it works - a small window should pop up showing you the live feed from your camera; you can press any key to close this window.\n",
    "\n",
    "**Note:** Mac users may find that activating this function kills the kernel of their notebook every once in a while.  If this happens to you, just restart your notebook's kernel, activate cell(s) containing any crucial import statements, and you'll be good to go!"
   ]
  },
  {
   "cell_type": "code",
   "execution_count": null,
   "metadata": {
    "collapsed": true
   },
   "outputs": [],
   "source": [
    "### Add face and eye detection to this laptop camera function \n",
    "# Make sure to draw out all faces/eyes found in each frame on the shown video feed\n",
    "\n",
    "import cv2\n",
    "import time \n",
    "\n",
    "# wrapper function for face/eye detection with your laptop camera\n",
    "def laptop_camera_go():\n",
    "    # Create instance of video capturer\n",
    "    cv2.namedWindow(\"face detection activated\")\n",
    "    vc = cv2.VideoCapture(0)\n",
    "\n",
    "    # Try to get the first frame\n",
    "    if vc.isOpened(): \n",
    "        rval, frame = vc.read()\n",
    "    else:\n",
    "        rval = False\n",
    "    \n",
    "    # Keep the video stream open\n",
    "    while rval:\n",
    "        # Plot the image from camera with all the face and eye detections marked\n",
    "        cv2.imshow(\"face detection activated\", frame)\n",
    "        \n",
    "        # Exit functionality - press any key to exit laptop video\n",
    "        key = cv2.waitKey(20)\n",
    "        if key > 0: # Exit by pressing any key\n",
    "            # Destroy windows \n",
    "            cv2.destroyAllWindows()\n",
    "            \n",
    "            # Make sure window closes on OSx\n",
    "            for i in range (1,5):\n",
    "                cv2.waitKey(1)\n",
    "            return\n",
    "        \n",
    "        # Read next frame\n",
    "        time.sleep(0.05)             # control framerate for computation - default 20 frames per sec\n",
    "        rval, frame = vc.read()    "
   ]
  },
  {
   "cell_type": "code",
   "execution_count": null,
   "metadata": {
    "collapsed": true
   },
   "outputs": [],
   "source": [
    "# Call the laptop camera face/eye detector function above\n",
    "laptop_camera_go()"
   ]
  },
  {
   "cell_type": "markdown",
   "metadata": {},
   "source": [
    "---\n",
    "<a id='step2'></a>\n",
    "\n",
    "## Step 2: De-noise an Image for Better Face Detection"
   ]
  },
  {
   "cell_type": "markdown",
   "metadata": {},
   "source": [
    "Image quality is an important aspect of any computer vision task. Typically, when creating a set of images to train a deep learning network, significant care is taken to ensure that training images are free of visual noise or artifacts that hinder object detection.  While computer vision algorithms - like a face detector - are typically trained on 'nice' data such as this, new test data doesn't always look so nice!\n",
    "\n",
    "When applying a trained computer vision algorithm to a new piece of test data one often cleans it up first before feeding it in.  This sort of cleaning - referred to as *pre-processing* - can include a number of cleaning phases like blurring, de-noising, color transformations, etc., and many of these tasks can be accomplished using OpenCV.\n",
    "\n",
    "In this short subsection we explore OpenCV's noise-removal functionality to see how we can clean up a noisy image, which we then feed into our trained face detector."
   ]
  },
  {
   "cell_type": "markdown",
   "metadata": {},
   "source": [
    "### Create a noisy image to work with\n",
    "\n",
    "In the next cell, we create an artificial noisy version of the previous multi-face image.  This is a little exaggerated - we don't typically get images that are this noisy - but [image noise](https://digital-photography-school.com/how-to-avoid-and-reduce-noise-in-your-images/), or 'grainy-ness' in a digitial image - is a fairly common phenomenon."
   ]
  },
  {
   "cell_type": "code",
   "execution_count": null,
   "metadata": {},
   "outputs": [],
   "source": [
    "# Load in the multi-face test image again\n",
    "image = cv2.imread('images/test_image_1.jpg')\n",
    "\n",
    "# Convert the image copy to RGB colorspace\n",
    "image = cv2.cvtColor(image, cv2.COLOR_BGR2RGB)\n",
    "\n",
    "# Make an array copy of this image\n",
    "image_with_noise = np.asarray(image)\n",
    "\n",
    "# Create noise - here we add noise sampled randomly from a Gaussian distribution: a common model for noise\n",
    "noise_level = 40\n",
    "noise = np.random.randn(image.shape[0],image.shape[1],image.shape[2])*noise_level\n",
    "\n",
    "# Add this noise to the array image copy\n",
    "image_with_noise = image_with_noise + noise\n",
    "\n",
    "# Convert back to uint8 format\n",
    "image_with_noise = np.asarray([np.uint8(np.clip(i,0,255)) for i in image_with_noise])\n",
    "\n",
    "# Plot our noisy image!\n",
    "fig = plt.figure(figsize = (8,8))\n",
    "ax1 = fig.add_subplot(111)\n",
    "ax1.set_xticks([])\n",
    "ax1.set_yticks([])\n",
    "\n",
    "ax1.set_title('Noisy Image')\n",
    "ax1.imshow(image_with_noise)"
   ]
  },
  {
   "cell_type": "markdown",
   "metadata": {},
   "source": [
    "In the context of face detection, the problem with an image like this is that  - due to noise - we may miss some faces or get false detections.  \n",
    "\n",
    "In the next cell we apply the same trained OpenCV detector with the same settings as before, to see what sort of detections we get."
   ]
  },
  {
   "cell_type": "code",
   "execution_count": null,
   "metadata": {},
   "outputs": [],
   "source": [
    "# Convert the RGB  image to grayscale\n",
    "gray_noise = cv2.cvtColor(image_with_noise, cv2.COLOR_RGB2GRAY)\n",
    "\n",
    "# Extract the pre-trained face detector from an xml file\n",
    "face_cascade = cv2.CascadeClassifier('detector_architectures/haarcascade_frontalface_default.xml')\n",
    "\n",
    "# Detect the faces in image\n",
    "faces = face_cascade.detectMultiScale(gray_noise, 4, 6)\n",
    "\n",
    "# Print the number of faces detected in the image\n",
    "print('Number of faces detected:', len(faces))\n",
    "\n",
    "# Make a copy of the orginal image to draw face detections on\n",
    "image_with_detections = np.copy(image_with_noise)\n",
    "\n",
    "# Get the bounding box for each detected face\n",
    "for (x,y,w,h) in faces:\n",
    "    # Add a red bounding box to the detections image\n",
    "    cv2.rectangle(image_with_detections, (x,y), (x+w,y+h), (255,0,0), 3)\n",
    "    \n",
    "\n",
    "# Display the image with the detections\n",
    "fig = plt.figure(figsize = (8,8))\n",
    "ax1 = fig.add_subplot(111)\n",
    "ax1.set_xticks([])\n",
    "ax1.set_yticks([])\n",
    "\n",
    "ax1.set_title('Noisy Image with Face Detections')\n",
    "ax1.imshow(image_with_detections)"
   ]
  },
  {
   "cell_type": "markdown",
   "metadata": {},
   "source": [
    "With this added noise we now miss one of the faces!"
   ]
  },
  {
   "cell_type": "markdown",
   "metadata": {},
   "source": [
    "### (IMPLEMENTATION) De-noise this image for better face detection\n",
    "\n",
    "Time to get your hands dirty: using OpenCV's built in color image de-noising functionality called ```fastNlMeansDenoisingColored``` - de-noise this image enough so that all the faces in the image are properly detected.  Once you have cleaned the image in the next cell, use the cell that follows to run our trained face detector over the cleaned image to check out its detections.\n",
    "\n",
    "You can find its [official documentation here]([documentation for denoising](http://docs.opencv.org/trunk/d1/d79/group__photo__denoise.html#ga21abc1c8b0e15f78cd3eff672cb6c476) and [a useful example here](http://opencv-python-tutroals.readthedocs.io/en/latest/py_tutorials/py_photo/py_non_local_means/py_non_local_means.html).\n",
    "\n",
    "\n",
    "**Note:** you can keep all parameters *except* `photo_render` fixed as shown in the second link above.  Play around with the value of this parameter - see how it affects the resulting cleaned image."
   ]
  },
  {
   "cell_type": "code",
   "execution_count": null,
   "metadata": {
    "collapsed": true
   },
   "outputs": [],
   "source": [
    "## TODO: Use OpenCV's built in color image de-noising function to clean up our noisy image!\n",
    "\n",
    "\n",
    "denoised_image = # your final de-noised image (should be RGB)"
   ]
  },
  {
   "cell_type": "code",
   "execution_count": null,
   "metadata": {
    "collapsed": true
   },
   "outputs": [],
   "source": [
    "## TODO: Run the face detector on the de-noised image to improve your detections and display the result\n"
   ]
  },
  {
   "cell_type": "markdown",
   "metadata": {},
   "source": [
    "---\n",
    "<a id='step3'></a>\n",
    "\n",
    "## Step 3: Blur an Image and Perform Edge Detection"
   ]
  },
  {
   "cell_type": "markdown",
   "metadata": {},
   "source": [
    "Now that we have developed a simple pipeline for detecting faces using OpenCV - let's start playing around with a few fun things we can do with all those detected faces!"
   ]
  },
  {
   "cell_type": "markdown",
   "metadata": {},
   "source": [
    "### Importance of Blur in Edge Detection\n",
    "\n",
    "Edge detection is a concept that pops up almost everywhere in computer vision applications, as edge-based features (as well as features built on top of edges) are often some of the best features for e.g., object detection and recognition problems.\n",
    "\n",
    "Edge detection is a dimension reduction technique - by keeping only the edges of an image we get to throw away a lot of non-discriminating information.  And typically the most useful kind of edge-detection is one that preserves only the important, global structures (ignoring local structures that aren't very discriminative).  So removing local structures / retaining global structures is a crucial pre-processing step to performing edge detection in an image, and blurring can do just that.  \n",
    "\n",
    "Below is an animated gif showing the result of an edge-detected cat [taken from Wikipedia](https://en.wikipedia.org/wiki/Gaussian_blur#Common_uses), where the image is gradually blurred more and more prior to edge detection.  When the animation begins you can't quite make out what it's a picture of, but as the animation evolves and local structures are removed via blurring the cat becomes visible in the edge-detected image.\n",
    "\n",
    "<img src=\"images/Edge_Image.gif\" width=400 height=300/>\n",
    "\n",
    "Edge detection is a **convolution** performed on the image itself, and you can read about Canny edge detection on [this OpenCV documentation page](http://docs.opencv.org/2.4/doc/tutorials/imgproc/imgtrans/canny_detector/canny_detector.html)."
   ]
  },
  {
   "cell_type": "markdown",
   "metadata": {},
   "source": [
    "### Canny edge detection\n",
    "\n",
    "In the cell below we load in a test image, then apply *Canny edge detection* on it.  The original image is shown on the left panel of the figure, while the edge-detected version of the image is shown on the right.  Notice how the result looks very busy - there are too many little details preserved in the image before it is sent to the edge detector.  When applied in computer vision applications, edge detection should preserve *global* structure; doing away with local structures that don't help describe what objects are in the image."
   ]
  },
  {
   "cell_type": "code",
   "execution_count": null,
   "metadata": {},
   "outputs": [],
   "source": [
    "# Load in the image\n",
    "image = cv2.imread('images/fawzia.jpg')\n",
    "\n",
    "# Convert to RGB colorspace\n",
    "image = cv2.cvtColor(image, cv2.COLOR_BGR2RGB)\n",
    "\n",
    "# Convert to grayscale\n",
    "gray = cv2.cvtColor(image, cv2.COLOR_RGB2GRAY)  \n",
    "\n",
    "# Perform Canny edge detection\n",
    "edges = cv2.Canny(gray,100,200)\n",
    "\n",
    "# Dilate the image to amplify edges\n",
    "edges = cv2.dilate(edges, None)\n",
    "\n",
    "# Plot the RGB and edge-detected image\n",
    "fig = plt.figure(figsize = (15,15))\n",
    "ax1 = fig.add_subplot(121)\n",
    "ax1.set_xticks([])\n",
    "ax1.set_yticks([])\n",
    "\n",
    "ax1.set_title('Original Image')\n",
    "ax1.imshow(image)\n",
    "\n",
    "ax2 = fig.add_subplot(122)\n",
    "ax2.set_xticks([])\n",
    "ax2.set_yticks([])\n",
    "\n",
    "ax2.set_title('Canny Edges')\n",
    "ax2.imshow(edges, cmap='gray')"
   ]
  },
  {
   "cell_type": "markdown",
   "metadata": {},
   "source": [
    "Without first blurring the image, and removing small, local structures, a lot of irrelevant edge content gets picked up and amplified by the detector (as shown in the right panel above). "
   ]
  },
  {
   "cell_type": "markdown",
   "metadata": {},
   "source": [
    "### (IMPLEMENTATION) Blur the image *then* perform edge detection\n",
    "\n",
    "In the next cell, you will repeat this experiment - blurring the image first to remove these local structures, so that only the important boudnary details remain in the edge-detected image.\n",
    "\n",
    "Blur the image by using OpenCV's ```filter2d``` functionality - which is discussed in [this documentation page](http://docs.opencv.org/3.1.0/d4/d13/tutorial_py_filtering.html) - and use an *averaging kernel* of width equal to 4."
   ]
  },
  {
   "cell_type": "code",
   "execution_count": null,
   "metadata": {
    "collapsed": true
   },
   "outputs": [],
   "source": [
    "### TODO: Blur the test imageusing OpenCV's filter2d functionality, \n",
    "# Use an averaging kernel, and a kernel width equal to 4\n",
    "\n",
    "## TODO: Then perform Canny edge detection and display the output\n",
    "\n"
   ]
  },
  {
   "cell_type": "markdown",
   "metadata": {},
   "source": [
    "---\n",
    "<a id='step4'></a>\n",
    "\n",
    "## Step 4: Automatically Hide the Identity of an Individual\n",
    "\n",
    "If you film something like a documentary or reality TV, you must get permission from every individual shown on film before you can show their face, otherwise you need to blur it out - by blurring the face a lot (so much so that even the global structures are obscured)!  This is also true for projects like [Google's StreetView maps](https://www.google.com/streetview/) - an enormous collection of mapping images taken from a fleet of Google vehicles.  Because it would be impossible for Google to get the permission of every single person accidentally captured in one of these images they blur out everyone's faces, the detected images must automatically blur the identity of detected people.  Here's a few examples of folks caught in the camera of a Google street view vehicle.\n",
    "\n",
    "<img src=\"images/streetview_example_1.jpg\" width=400 height=300/>\n",
    "<img src=\"images/streetview_example_2.jpg\" width=400 height=300/>\n"
   ]
  },
  {
   "cell_type": "markdown",
   "metadata": {},
   "source": [
    "### Read in an image to perform identity detection\n",
    "\n",
    "Let's try this out for ourselves.  Use the face detection pipeline built above and what you know about using the ```filter2D``` to blur and image, and use these in tandem to hide the identity of the person in the following image - loaded in and printed in the next cell. "
   ]
  },
  {
   "cell_type": "code",
   "execution_count": null,
   "metadata": {},
   "outputs": [],
   "source": [
    "# Load in the image\n",
    "image = cv2.imread('images/gus.jpg')\n",
    "\n",
    "# Convert the image to RGB colorspace\n",
    "image = cv2.cvtColor(image, cv2.COLOR_BGR2RGB)\n",
    "\n",
    "# Display the image\n",
    "fig = plt.figure(figsize = (6,6))\n",
    "ax1 = fig.add_subplot(111)\n",
    "ax1.set_xticks([])\n",
    "ax1.set_yticks([])\n",
    "ax1.set_title('Original Image')\n",
    "ax1.imshow(image)"
   ]
  },
  {
   "cell_type": "markdown",
   "metadata": {},
   "source": [
    "### (IMPLEMENTATION) Use blurring to hide the identity of an individual in an image\n",
    "\n",
    "The idea here is to 1) automatically detect the face in this image, and then 2) blur it out!  Make sure to adjust the parameters of the *averaging* blur filter to completely obscure this person's identity."
   ]
  },
  {
   "cell_type": "code",
   "execution_count": null,
   "metadata": {
    "collapsed": true
   },
   "outputs": [],
   "source": [
    "## TODO: Implement face detection\n",
    "\n",
    "## TODO: Blur the bounding box around each detected face using an averaging filter and display the result\n",
    "\n"
   ]
  },
  {
   "cell_type": "markdown",
   "metadata": {},
   "source": [
    "### (Optional) Build identity protection into your laptop camera\n",
    "\n",
    "In this optional task you can add identity protection to your laptop camera, using the previously completed code where you added face detection to your laptop camera - and the task above.  You should be able to get reasonable results with little parameter tuning - like the one shown in the gif below.\n",
    "\n",
    "<img src=\"images/laptop_blurer_example.gif\" width=400 height=300/>\n",
    "\n",
    "As with the previous video task, to make this perfect would require significant effort - so don't strive for perfection here, strive for reasonable quality.  \n",
    "\n",
    "The next cell contains code a wrapper function called ``laptop_camera_identity_hider`` that - when called  - will activate your laptop's camera.  You need to place the relevant face detection and blurring code developed above in this function in order to blur faces entering your laptop camera's field of view.\n",
    "\n",
    "Before adding anything to the function you can call it to get a hang of how it works - a small window will pop up showing you the live feed from your camera, you can press any key to close this window.\n",
    "\n",
    "**Note:** Mac users may find that activating this function kills the kernel of their notebook every once in a while.  If this happens to you, just restart your notebook's kernel, activate cell(s) containing any crucial import statements, and you'll be good to go!"
   ]
  },
  {
   "cell_type": "code",
   "execution_count": null,
   "metadata": {
    "collapsed": true
   },
   "outputs": [],
   "source": [
    "### Insert face detection and blurring code into the wrapper below to create an identity protector on your laptop!\n",
    "import cv2\n",
    "import time \n",
    "\n",
    "def laptop_camera_go():\n",
    "    # Create instance of video capturer\n",
    "    cv2.namedWindow(\"face detection activated\")\n",
    "    vc = cv2.VideoCapture(0)\n",
    "\n",
    "    # Try to get the first frame\n",
    "    if vc.isOpened(): \n",
    "        rval, frame = vc.read()\n",
    "    else:\n",
    "        rval = False\n",
    "    \n",
    "    # Keep video stream open\n",
    "    while rval:\n",
    "        # Plot image from camera with detections marked\n",
    "        cv2.imshow(\"face detection activated\", frame)\n",
    "        \n",
    "        # Exit functionality - press any key to exit laptop video\n",
    "        key = cv2.waitKey(20)\n",
    "        if key > 0: # Exit by pressing any key\n",
    "            # Destroy windows\n",
    "            cv2.destroyAllWindows()\n",
    "            \n",
    "            for i in range (1,5):\n",
    "                cv2.waitKey(1)\n",
    "            return\n",
    "        \n",
    "        # Read next frame\n",
    "        time.sleep(0.05)             # control framerate for computation - default 20 frames per sec\n",
    "        rval, frame = vc.read()    \n",
    "        "
   ]
  },
  {
   "cell_type": "code",
   "execution_count": null,
   "metadata": {
    "collapsed": true
   },
   "outputs": [],
   "source": [
    "# Run laptop identity hider\n",
    "laptop_camera_go()"
   ]
  },
  {
   "cell_type": "markdown",
   "metadata": {},
   "source": [
    "---\n",
    "<a id='step5'></a>\n",
    "\n",
    "## Step 5: Create a CNN to Recognize Facial Keypoints\n",
    "\n",
    "OpenCV is often used in practice with other machine learning and deep learning libraries to produce interesting results.  In this stage of the project you will create your own end-to-end pipeline - employing convolutional networks in keras along with OpenCV - to apply a \"selfie\" filter to streaming video and images.  \n",
    "\n",
    "You will start by creating and then training a convolutional network that can detect facial keypoints in a small dataset of cropped images of human faces.  We then guide you towards OpenCV to expanding your detection algorithm to more general images.  What are facial keypoints?  Let's take a look at some examples.\n",
    "\n",
    "<img src=\"images/keypoints_test_results.png\" width=400 height=300/>\n",
    "\n",
    "Facial keypoints (also called facial landmarks) are the small blue-green dots shown on each of the faces in the image above - there are 15 keypoints marked in each image.  They mark important areas of the face - the eyes, corners of the mouth, the nose, etc.  Facial keypoints can be used in a variety of machine learning applications from face and emotion recognition to commercial applications like the image filters popularized by Snapchat.\n",
    "\n",
    "Below we illustrate a filter that, using the results of this section, automatically places sunglasses on people in images (using the facial keypoints to place the glasses correctly on each face).  Here, the facial keypoints have been colored lime green for visualization purposes.\n",
    "\n",
    "<img src=\"images/obamas_with_shades.png\" width=1000 height=1000/>"
   ]
  },
  {
   "cell_type": "markdown",
   "metadata": {},
   "source": [
    "### Make a facial keypoint detector\n",
    "\n",
    "But first things first: how can we make a facial keypoint detector?  Well, at a high level, notice that facial keypoint detection is a *regression problem*.  A single face corresponds to a set of 15 facial keypoints (a set of 15 corresponding $(x, y)$ coordinates, i.e., an output point).  Because our input data are images, we can employ a *convolutional neural network* to recognize patterns in our images and learn how to identify these keypoint given sets of labeled data.\n",
    "\n",
    "In order to train a regressor, we need a training set - a set of facial image / facial keypoint pairs to train on.  For this we will be using [this dataset from Kaggle](https://www.kaggle.com/c/facial-keypoints-detection/data). We've already downloaded this data and placed it in the `data` directory. Make sure that you have both the *training* and *test* data files.  The training dataset contains several thousand $96 \\times 96$ grayscale images of cropped human faces, along with each face's 15 corresponding facial keypoints (also called landmarks) that have been placed by hand, and recorded in $(x, y)$ coordinates.  This wonderful resource also has a substantial testing set, which we will use in tinkering with our convolutional network.\n",
    "\n",
    "To load in this data, run the Python cell below - notice we will load in both the training and testing sets.\n",
    "\n",
    "The `load_data` function is in the included `utils.py` file."
   ]
  },
  {
   "cell_type": "code",
   "execution_count": null,
   "metadata": {},
   "outputs": [],
   "source": [
    "from utils import *\n",
    "\n",
    "# Load training set\n",
    "X_train, y_train = load_data()\n",
    "print(\"X_train.shape == {}\".format(X_train.shape))\n",
    "print(\"y_train.shape == {}; y_train.min == {:.3f}; y_train.max == {:.3f}\".format(\n",
    "    y_train.shape, y_train.min(), y_train.max()))\n",
    "\n",
    "# Load testing set\n",
    "X_test, _ = load_data(test=True)\n",
    "print(\"X_test.shape == {}\".format(X_test.shape))"
   ]
  },
  {
   "cell_type": "markdown",
   "metadata": {},
   "source": [
    "The `load_data` function in `utils.py` originates from this excellent [blog post](http://danielnouri.org/notes/2014/12/17/using-convolutional-neural-nets-to-detect-facial-keypoints-tutorial/), which you are *strongly* encouraged to read.  Please take the time now to review this function.  Note how the output values - that is, the coordinates of each set of facial landmarks - have been normalized to take on values in the range $[-1, 1]$, while the pixel values of each input point (a facial image) have been normalized to the range $[0,1]$.  \n",
    "\n",
    "Note: the original Kaggle dataset contains some images with several missing keypoints.  For simplicity, the `load_data` function removes those images with missing labels from the dataset.  As an __*optional*__ extension, you are welcome to amend the `load_data` function to include the incomplete data points. "
   ]
  },
  {
   "cell_type": "markdown",
   "metadata": {},
   "source": [
    "### Visualize the Training Data\n",
    "\n",
    "Execute the code cell below to visualize a subset of the training data."
   ]
  },
  {
   "cell_type": "code",
   "execution_count": null,
   "metadata": {},
   "outputs": [],
   "source": [
    "import matplotlib.pyplot as plt\n",
    "%matplotlib inline\n",
    "\n",
    "fig = plt.figure(figsize=(20,20))\n",
    "fig.subplots_adjust(left=0, right=1, bottom=0, top=1, hspace=0.05, wspace=0.05)\n",
    "for i in range(9):\n",
    "    ax = fig.add_subplot(3, 3, i + 1, xticks=[], yticks=[])\n",
    "    plot_data(X_train[i], y_train[i], ax)"
   ]
  },
  {
   "cell_type": "markdown",
   "metadata": {},
   "source": [
    "For each training image, there are two landmarks per eyebrow (**four** total), three per eye (**six** total), **four** for the mouth, and **one** for the tip of the nose.  \n",
    "\n",
    "Review the `plot_data` function in `utils.py` to understand how the 30-dimensional training labels in `y_train` are mapped to facial locations, as this function will prove useful for your pipeline."
   ]
  },
  {
   "cell_type": "markdown",
   "metadata": {},
   "source": [
    "### (IMPLEMENTATION) Specify the CNN Architecture\n",
    "\n",
    "In this section, you will specify a neural network for predicting the locations of facial keypoints.  Use the code cell below to specify the architecture of your neural network.  We have imported some layers that you may find useful for this task, but if you need to use more Keras layers, feel free to import them in the cell.\n",
    "\n",
    "Your network should accept a $96 \\times 96$ grayscale image as input, and it should output a vector with 30 entries, corresponding to the predicted (horizontal and vertical) locations of 15 facial keypoints.  If you are not sure where to start, you can find some useful starting architectures in [this blog](http://danielnouri.org/notes/2014/12/17/using-convolutional-neural-nets-to-detect-facial-keypoints-tutorial/), but you are not permitted to copy any of the architectures that you find online."
   ]
  },
  {
   "cell_type": "code",
   "execution_count": null,
   "metadata": {
    "collapsed": true
   },
   "outputs": [],
   "source": [
    "# Import deep learning resources from Keras\n",
    "from keras.models import Sequential\n",
    "from keras.layers import Convolution2D, MaxPooling2D, Dropout\n",
    "from keras.layers import Flatten, Dense\n",
    "\n",
    "\n",
    "## TODO: Specify a CNN architecture\n",
    "# Your model should accept 96x96 pixel graysale images in\n",
    "# It should have a fully-connected output layer with 30 values (2 for each facial keypoint)\n",
    "\n",
    "model = Sequential()\n",
    "\n",
    "\n",
    "\n",
    "\n",
    "# Summarize the model\n",
    "model.summary()"
   ]
  },
  {
   "cell_type": "markdown",
   "metadata": {},
   "source": [
    "---\n",
    "<a id='step6'></a>\n",
    "\n",
    "## Step 6: Compile and Train the Model\n",
    "\n",
    "After specifying your architecture, you'll need to compile and train the model to detect facial keypoints'"
   ]
  },
  {
   "cell_type": "markdown",
   "metadata": {},
   "source": [
    "### (IMPLEMENTATION) Compile and Train the Model\n",
    "\n",
    "Use the `compile` [method](https://keras.io/models/sequential/#sequential-model-methods) to configure the learning process.  Experiment with your choice of [optimizer](https://keras.io/optimizers/); you may have some ideas about which will work best (`SGD` vs. `RMSprop`, etc), but take the time to empirically verify your theories.\n",
    "\n",
    "Use the `fit` [method](https://keras.io/models/sequential/#sequential-model-methods) to train the model.  Break off a validation set by setting `validation_split=0.2`.  Save the returned `History` object in the `history` variable.  \n",
    "\n",
    "Experiment with your model to minimize the validation loss (measured as mean squared error). A very good model will achieve about 0.0015 loss (though it's possible to do even better).  When you have finished training, [save your model](https://keras.io/getting-started/faq/#how-can-i-save-a-keras-model) as an HDF5 file with file path `my_model.h5`."
   ]
  },
  {
   "cell_type": "code",
   "execution_count": null,
   "metadata": {
    "collapsed": true
   },
   "outputs": [],
   "source": [
    "from keras.optimizers import SGD, RMSprop, Adagrad, Adadelta, Adam, Adamax, Nadam\n",
    "\n",
    "## TODO: Compile the model\n",
    "model.compile( ... )\n",
    "\n",
    "## TODO: Train the model\n",
    "hist = model.fit( ... )\n",
    "\n",
    "## TODO: Save the model as model.h5\n",
    "model.save('my_model.h5')"
   ]
  },
  {
   "cell_type": "markdown",
   "metadata": {},
   "source": [
    "---\n",
    "<a id='step7'></a>\n",
    "\n",
    "## Step 7: Visualize the Loss and Test Predictions"
   ]
  },
  {
   "cell_type": "markdown",
   "metadata": {},
   "source": [
    "### (IMPLEMENTATION)  Answer a few questions and visualize the loss\n",
    "\n",
    "__Question 1:__ Outline the steps you took to get to your final neural network architecture and your reasoning at each step.\n",
    "\n",
    "__Answer:__\n",
    "\n",
    "\n",
    "__Question 2:__ Defend your choice of optimizer.  Which optimizers did you test, and how did you determine which worked best?\n",
    "\n",
    "__Answer:__ \n",
    "\n",
    "\n",
    "Use the code cell below to plot the training and validation loss of your neural network.  You may find [this resource](http://machinelearningmastery.com/display-deep-learning-model-training-history-in-keras/) useful."
   ]
  },
  {
   "cell_type": "code",
   "execution_count": null,
   "metadata": {
    "collapsed": true
   },
   "outputs": [],
   "source": [
    "## TODO: Visualize the training and validation loss of your neural network\n"
   ]
  },
  {
   "cell_type": "markdown",
   "metadata": {},
   "source": [
    "__Question 3:__  Do you notice any evidence of overfitting or underfitting in the above plot?  If so, what steps have you taken to improve your model?  Note that slight overfitting or underfitting will not hurt your chances of a successful submission, as long as you have attempted some solutions towards improving your model (such as _regularization, dropout, increased/decreased number of layers, etc_).\n",
    "\n",
    "__Answer:__"
   ]
  },
  {
   "cell_type": "markdown",
   "metadata": {},
   "source": [
    "### Visualize a Subset of the Test Predictions\n",
    "\n",
    "Execute the code cell below to visualize your model's predicted keypoints on a subset of the testing images."
   ]
  },
  {
   "cell_type": "code",
   "execution_count": null,
   "metadata": {},
   "outputs": [],
   "source": [
    "y_test = model.predict(X_test)\n",
    "fig = plt.figure(figsize=(20,20))\n",
    "fig.subplots_adjust(left=0, right=1, bottom=0, top=1, hspace=0.05, wspace=0.05)\n",
    "for i in range(9):\n",
    "    ax = fig.add_subplot(3, 3, i + 1, xticks=[], yticks=[])\n",
    "    plot_data(X_test[i], y_test[i], ax)"
   ]
  },
  {
   "cell_type": "markdown",
   "metadata": {},
   "source": [
    "---\n",
    "<a id='step8'></a>\n",
    "\n",
    "## Step 8: Complete the pipeline\n",
    "\n",
    "With the work you did in Sections 1 and 2 of this notebook, along with your freshly trained facial keypoint detector, you can now complete the full pipeline.  That is given a color image containing a person or persons you can now \n",
    "\n",
    "- Detect the faces in this image automatically using OpenCV\n",
    "- Predict the facial keypoints in each face detected in the image\n",
    "- Paint predicted keypoints on each face detected\n",
    "\n",
    "In this Subsection you will do just this!  "
   ]
  },
  {
   "cell_type": "markdown",
   "metadata": {},
   "source": [
    "### (IMPLEMENTATION) Facial Keypoints Detector\n",
    "\n",
    "Use the OpenCV face detection functionality you built in previous Sections to expand the functionality of your keypoints detector to color images with arbitrary size.  Your function should perform the following steps\n",
    "\n",
    "1. Accept a color image.\n",
    "2. Convert the image to grayscale.\n",
    "3. Detect and crop the face contained in the image.\n",
    "4. Locate the facial keypoints in the cropped image.\n",
    "5. Overlay the facial keypoints in the original (color, uncropped) image.\n",
    "\n",
    "**Note**: step 4 can be the trickiest because remember your convolutional network is only trained to detect facial keypoints in $96 \\times 96$ grayscale images where each pixel was normalized to lie in the interval $[0,1]$, and remember that each facial keypoint was normalized during training to the interval $[-1,1]$.  This means - practically speaking - to paint detected keypoints onto a test face you need to perform this same pre-processing to your candidate face  - that is after detecting it you should resize it to $96 \\times 96$ and normalize its values before feeding it into your facial keypoint detector.  To be shown correctly on the original image the output keypoints from your detector then need to be shifted and re-normalized from the interval $[-1,1]$ to the width and height of your detected face.\n",
    "\n",
    "When complete you should be able to produce example images like the one below\n",
    "\n",
    "<img src=\"images/obamas_with_keypoints.png\" width=1000 height=1000/>"
   ]
  },
  {
   "cell_type": "code",
   "execution_count": null,
   "metadata": {},
   "outputs": [],
   "source": [
    "# Load in color image for face detection\n",
    "image = cv2.imread('images/obamas4.jpg')\n",
    "\n",
    "\n",
    "# Convert the image to RGB colorspace\n",
    "image = cv2.cvtColor(image, cv2.COLOR_BGR2RGB)\n",
    "\n",
    "\n",
    "# plot our image\n",
    "fig = plt.figure(figsize = (9,9))\n",
    "ax1 = fig.add_subplot(111)\n",
    "ax1.set_xticks([])\n",
    "ax1.set_yticks([])\n",
    "ax1.set_title('image copy')\n",
    "ax1.imshow(image_copy)"
   ]
  },
  {
   "cell_type": "code",
   "execution_count": null,
   "metadata": {
    "collapsed": true
   },
   "outputs": [],
   "source": [
    "### TODO: Use the face detection code we saw in Section 1 with your trained conv-net \n",
    "## TODO : Paint the predicted keypoints on the test image\n",
    "\n"
   ]
  },
  {
   "cell_type": "markdown",
   "metadata": {},
   "source": [
    "### (Optional) Further Directions - add a filter using facial keypoints to your laptop camera\n",
    "\n",
    "Now you can add facial keypoint detection to your laptop camera - as illustrated in the gif below.\n",
    "\n",
    "<img src=\"images/facial_keypoint_test.gif\" width=400 height=300/>\n",
    "\n",
    "The next Python cell contains the basic laptop video camera function used in the previous optional video exercises.  Combine it with the functionality you developed for keypoint detection and marking in the previous exercise and you should be good to go!"
   ]
  },
  {
   "cell_type": "code",
   "execution_count": null,
   "metadata": {
    "collapsed": true
   },
   "outputs": [],
   "source": [
    "import cv2\n",
    "import time \n",
    "from keras.models import load_model\n",
    "def laptop_camera_go():\n",
    "    # Create instance of video capturer\n",
    "    cv2.namedWindow(\"face detection activated\")\n",
    "    vc = cv2.VideoCapture(0)\n",
    "\n",
    "    # Try to get the first frame\n",
    "    if vc.isOpened(): \n",
    "        rval, frame = vc.read()\n",
    "    else:\n",
    "        rval = False\n",
    "    \n",
    "    # keep video stream open\n",
    "    while rval:\n",
    "        # plot image from camera with detections marked\n",
    "        cv2.imshow(\"face detection activated\", frame)\n",
    "        \n",
    "        # exit functionality - press any key to exit laptop video\n",
    "        key = cv2.waitKey(20)\n",
    "        if key > 0: # exit by pressing any key\n",
    "            # destroy windows\n",
    "            cv2.destroyAllWindows()\n",
    "            \n",
    "            # hack from stack overflow for making sure window closes on osx --> https://stackoverflow.com/questions/6116564/destroywindow-does-not-close-window-on-mac-using-python-and-opencv\n",
    "            for i in range (1,5):\n",
    "                cv2.waitKey(1)\n",
    "            return\n",
    "        \n",
    "        # read next frame\n",
    "        time.sleep(0.05)             # control framerate for computation - default 20 frames per sec\n",
    "        rval, frame = vc.read()  "
   ]
  },
  {
   "cell_type": "code",
   "execution_count": null,
   "metadata": {
    "collapsed": true
   },
   "outputs": [],
   "source": [
    "# Run your keypoint face painter\n",
    "laptop_camera_go()"
   ]
  },
  {
   "cell_type": "markdown",
   "metadata": {},
   "source": [
    "### (Optional) Further Directions - add a filter using facial keypoints\n",
    "\n",
    "Using your freshly minted facial keypoint detector pipeline you can now do things like add fun filters to a person's face automatically.  In this optional exercise you can play around with adding sunglasses automatically to each individual's face in an image as shown in a demonstration image below.\n",
    "\n",
    "<img src=\"images/obamas_with_shades.png\" width=1000 height=1000/>\n",
    "\n",
    "To produce this effect an image of a pair of sunglasses shown in the Python cell below."
   ]
  },
  {
   "cell_type": "code",
   "execution_count": null,
   "metadata": {},
   "outputs": [],
   "source": [
    "# Load in sunglasses image - note the usage of the special option\n",
    "# cv2.IMREAD_UNCHANGED, this option is used because the sunglasses \n",
    "# image has a 4th channel that allows us to control how transparent each pixel in the image is\n",
    "sunglasses = cv2.imread(\"images/sunglasses_4.png\", cv2.IMREAD_UNCHANGED)\n",
    "\n",
    "# Plot the image\n",
    "fig = plt.figure(figsize = (6,6))\n",
    "ax1 = fig.add_subplot(111)\n",
    "ax1.set_xticks([])\n",
    "ax1.set_yticks([])\n",
    "ax1.imshow(sunglasses)\n",
    "ax1.axis('off');"
   ]
  },
  {
   "cell_type": "markdown",
   "metadata": {},
   "source": [
    "This image is placed over each individual's face using the detected eye points to determine the location of the sunglasses, and eyebrow points to determine the size that the sunglasses should be for each person (one could also use the nose point to determine this).  \n",
    "\n",
    "Notice that this image actually has *4 channels*, not just 3. "
   ]
  },
  {
   "cell_type": "code",
   "execution_count": null,
   "metadata": {},
   "outputs": [],
   "source": [
    "# Print out the shape of the sunglasses image\n",
    "print ('The sunglasses image has shape: ' + str(np.shape(sunglasses)))"
   ]
  },
  {
   "cell_type": "markdown",
   "metadata": {},
   "source": [
    "It has the usual red, blue, and green channels any color image has, with the 4th channel representing the transparency level of each pixel in the image.  Here's how the transparency channel works: the lower the value, the more transparent the pixel will become.  The lower bound (completely transparent) is zero here, so any pixels set to 0 will not be seen. \n",
    "\n",
    "This is how we can place this image of sunglasses on someone's face and still see the area around of their face where the sunglasses lie - because these pixels in the sunglasses image have been made completely transparent.\n",
    "\n",
    "Lets check out the alpha channel of our sunglasses image in the next Python cell.  Note because many of the pixels near the boundary are transparent we'll need to explicitly print out non-zero values if we want to see them. "
   ]
  },
  {
   "cell_type": "code",
   "execution_count": null,
   "metadata": {},
   "outputs": [],
   "source": [
    "# Print out the sunglasses transparency (alpha) channel\n",
    "alpha_channel = sunglasses[:,:,3]\n",
    "print ('the alpha channel here looks like')\n",
    "print (alpha_channel)\n",
    "\n",
    "# Just to double check that there are indeed non-zero values\n",
    "# Let's find and print out every value greater than zero\n",
    "values = np.where(alpha_channel != 0)\n",
    "print ('\\n the non-zero values of the alpha channel look like')\n",
    "print (values)"
   ]
  },
  {
   "cell_type": "markdown",
   "metadata": {},
   "source": [
    "This means that when we place this sunglasses image on top of another image, we can use the transparency channel as a filter to tell us which pixels to overlay on a new image (only the non-transparent ones with values greater than zero).\n",
    "\n",
    "One last thing: it's helpful to understand which keypoint belongs to the eyes, mouth, etc. So, in the image below, we also display the index of each facial keypoint directly on the image so that you can tell which keypoints are for the eyes, eyebrows, etc.\n",
    "\n",
    "<img src=\"images/obamas_points_numbered.png\" width=500 height=500/>\n",
    "\n",
    "With this information, you're well on your way to completing this filtering task!  See if you can place the sunglasses automatically on the individuals in the image loaded in / shown in the next Python cell."
   ]
  },
  {
   "cell_type": "code",
   "execution_count": null,
   "metadata": {},
   "outputs": [],
   "source": [
    "# Load in color image for face detection\n",
    "image = cv2.imread('images/obamas4.jpg')\n",
    "\n",
    "# Convert the image to RGB colorspace\n",
    "image = cv2.cvtColor(image, cv2.COLOR_BGR2RGB)\n",
    "\n",
    "\n",
    "# Plot the image\n",
    "fig = plt.figure(figsize = (8,8))\n",
    "ax1 = fig.add_subplot(111)\n",
    "ax1.set_xticks([])\n",
    "ax1.set_yticks([])\n",
    "ax1.set_title('Original Image')\n",
    "ax1.imshow(image)"
   ]
  },
  {
   "cell_type": "code",
   "execution_count": null,
   "metadata": {
    "collapsed": true
   },
   "outputs": [],
   "source": [
    "## (Optional) TODO: Use the face detection code we saw in Section 1 with your trained conv-net to put\n",
    "## sunglasses on the individuals in our test image\n",
    "\n"
   ]
  },
  {
   "cell_type": "markdown",
   "metadata": {},
   "source": [
    "###  (Optional) Further Directions - add a filter using facial keypoints to your laptop camera \n",
    "\n",
    "Now you can add the sunglasses filter to your laptop camera - as illustrated in the gif below.\n",
    "\n",
    "<img src=\"images/mr_sunglasses.gif\" width=250 height=250/>\n",
    "\n",
    "The next Python cell contains the basic laptop video camera function used in the previous optional video exercises.  Combine it with the functionality you developed for adding sunglasses to someone's face in the previous optional exercise and you should be good to go!"
   ]
  },
  {
   "cell_type": "code",
   "execution_count": null,
   "metadata": {
    "collapsed": true
   },
   "outputs": [],
   "source": [
    "import cv2\n",
    "import time \n",
    "from keras.models import load_model\n",
    "import numpy as np\n",
    "\n",
    "def laptop_camera_go():\n",
    "    # Create instance of video capturer\n",
    "    cv2.namedWindow(\"face detection activated\")\n",
    "    vc = cv2.VideoCapture(0)\n",
    "\n",
    "    # try to get the first frame\n",
    "    if vc.isOpened(): \n",
    "        rval, frame = vc.read()\n",
    "    else:\n",
    "        rval = False\n",
    "    \n",
    "    # Keep video stream open\n",
    "    while rval:\n",
    "        # Plot image from camera with detections marked\n",
    "        cv2.imshow(\"face detection activated\", frame)\n",
    "        \n",
    "        # Exit functionality - press any key to exit laptop video\n",
    "        key = cv2.waitKey(20)\n",
    "        if key > 0: # exit by pressing any key\n",
    "            # Destroy windows \n",
    "            cv2.destroyAllWindows()\n",
    "            \n",
    "            for i in range (1,5):\n",
    "                cv2.waitKey(1)\n",
    "            return\n",
    "        \n",
    "        # Read next frame\n",
    "        time.sleep(0.05)             # control framerate for computation - default 20 frames per sec\n",
    "        rval, frame = vc.read()    \n",
    "        "
   ]
  },
  {
   "cell_type": "code",
   "execution_count": null,
   "metadata": {
    "collapsed": true
   },
   "outputs": [],
   "source": [
    "# Load facial landmark detector model\n",
    "model = load_model('my_model.h5')\n",
    "\n",
    "# Run sunglasses painter\n",
    "laptop_camera_go()"
   ]
  }
 ],
 "metadata": {
  "anaconda-cloud": {},
  "kernelspec": {
   "display_name": "Python 3",
   "language": "python",
   "name": "python3"
  },
  "language_info": {
   "codemirror_mode": {
    "name": "ipython",
    "version": 3
   },
   "file_extension": ".py",
   "mimetype": "text/x-python",
   "name": "python",
   "nbconvert_exporter": "python",
   "pygments_lexer": "ipython3",
   "version": "3.6.3"
  }
 },
 "nbformat": 4,
 "nbformat_minor": 1
}
